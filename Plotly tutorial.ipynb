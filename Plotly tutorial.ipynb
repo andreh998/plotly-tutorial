{
 "cells": [
  {
   "cell_type": "markdown",
   "metadata": {},
   "source": [
    "# Plotly Tutorial"
   ]
  },
  {
   "cell_type": "markdown",
   "metadata": {},
   "source": [
    "Fonte: https://www.youtube.com/watch?v=GGL6U0k8WYA"
   ]
  },
  {
   "cell_type": "markdown",
   "metadata": {},
   "source": [
    "### Intallation"
   ]
  },
  {
   "cell_type": "markdown",
   "metadata": {},
   "source": [
    "No terminal: \n",
    "\n",
    "$ conda install -c conda-forge cufflinks-py"
   ]
  },
  {
   "cell_type": "markdown",
   "metadata": {},
   "source": [
    "### Import"
   ]
  },
  {
   "cell_type": "code",
   "execution_count": null,
   "metadata": {},
   "outputs": [],
   "source": [
    "import pandas as pd\n",
    "import numpy as np\n",
    "import chart_studio.plotly as py\n",
    "import cufflinks as cf\n",
    "import seaborn as sns\n",
    "import plotly.express as px\n",
    "%matplotlib inline\n",
    "\n",
    "from plotly.offline import download_plotlyjs, init_notebook_mode, plot, iplot\n",
    "init_notebook_mode(connected=True)\n",
    "cf.go_offline()"
   ]
  },
  {
   "cell_type": "markdown",
   "metadata": {},
   "source": [
    "### Basics"
   ]
  },
  {
   "cell_type": "code",
   "execution_count": null,
   "metadata": {},
   "outputs": [],
   "source": [
    "arr_1 = np.random.rand(50,4)\n",
    "df_1 = pd.DataFrame(arr_1, columns = ['A','B','C','D'])\n",
    "df_1.head(10)"
   ]
  },
  {
   "cell_type": "code",
   "execution_count": null,
   "metadata": {},
   "outputs": [],
   "source": [
    "df_1.iplot()"
   ]
  },
  {
   "cell_type": "markdown",
   "metadata": {},
   "source": [
    "### Line Plots"
   ]
  },
  {
   "cell_type": "code",
   "execution_count": null,
   "metadata": {},
   "outputs": [],
   "source": [
    "import plotly.graph_objects as go\n",
    "# px.data.stocks vai gerar um data frame com algumas informações de valores das ações de algumas empresas\n",
    "# documentação: \n",
    "# https://plotly.com/python-api-reference/generated/plotly.data.html\n",
    "df_stocks = px.data.stocks()\n",
    "df_stocks.head(10)"
   ]
  },
  {
   "cell_type": "code",
   "execution_count": null,
   "metadata": {},
   "outputs": [],
   "source": [
    "px.line(df_stocks, x='date', y='GOOG', labels={'x': 'Date', 'y': 'Price'})"
   ]
  },
  {
   "cell_type": "code",
   "execution_count": null,
   "metadata": {},
   "outputs": [],
   "source": [
    "px.line(df_stocks, x='date', y=['GOOG', 'AAPL'], labels={'x':'Date', 'y':'Price'}, title='Apple vs. Google')"
   ]
  },
  {
   "cell_type": "code",
   "execution_count": null,
   "metadata": {},
   "outputs": [],
   "source": [
    "fig = go.Figure()\n",
    "fig.add_trace(go.Scatter(x=df_stocks.date, y=df_stocks.AAPL, mode='lines', name='Apple'))\n",
    "fig.add_trace(go.Scatter(x=df_stocks.date, y=df_stocks.AMZN, mode='lines+markers', name='Amazon'))\n",
    "fig.add_trace(go.Scatter(x=df_stocks.date, y=df_stocks.GOOG, mode='lines+markers', name='Google', \n",
    "                         line=dict(color='firebrick', width=2, dash='dashdot')))\n",
    "\n",
    "# fig.update_layout(title='Stock Price Data 2018-2020', xaxis_title='Price', yaxis_title='Date')\n",
    "fig.update_layout(\n",
    "    xaxis=dict(\n",
    "        showline=True, showgrid=False, showticklabels=True, linecolor='rgb(204, 204, 204)',\n",
    "        linewidth=2, ticks='outside', \n",
    "        tickfont=dict(family='Arial',size=12, color='rgb(82, 82, 82)',),),\n",
    "    yaxis=dict(showgrid=False, zeroline=False, showline=False,\n",
    "        showticklabels=False),\n",
    "    autosize=False,\n",
    "    margin=dict(autoexpand=False, l=100, r=20, t=110),\n",
    "    showlegend=False, plot_bgcolor='white')"
   ]
  },
  {
   "cell_type": "markdown",
   "metadata": {},
   "source": [
    "### Bar Charts"
   ]
  },
  {
   "cell_type": "code",
   "execution_count": null,
   "metadata": {},
   "outputs": [],
   "source": [
    "# Pego um dataset pronto do plotly.express\n",
    "df_us = px.data.gapminder().query(\"country == 'United States'\")\n",
    "df_us.head(10)"
   ]
  },
  {
   "cell_type": "code",
   "execution_count": null,
   "metadata": {},
   "outputs": [],
   "source": [
    "px.bar(df_us, x='year', y='pop')"
   ]
  },
  {
   "cell_type": "code",
   "execution_count": null,
   "metadata": {},
   "outputs": [],
   "source": [
    "df_tips = px.data.tips()\n",
    "df_tips.head(10)"
   ]
  },
  {
   "cell_type": "code",
   "execution_count": null,
   "metadata": {},
   "outputs": [],
   "source": [
    "px.bar(df_tips, x='day', y='tip', color='sex', title='Tips by Sex on Each Day',\n",
    "      labels={'tip':'Tip Amount', 'day': 'Day of the Week'})"
   ]
  },
  {
   "cell_type": "code",
   "execution_count": null,
   "metadata": {},
   "outputs": [],
   "source": [
    "px.bar(df_tips, x='sex', y='total_bill', color='smoker', barmode='group')"
   ]
  },
  {
   "cell_type": "code",
   "execution_count": null,
   "metadata": {},
   "outputs": [],
   "source": [
    "df_europe = px.data.gapminder().query(\"continent == 'Europe' and year == '2007' and pop > 2.e6\")\n",
    "df_europe.head(10)"
   ]
  },
  {
   "cell_type": "code",
   "execution_count": null,
   "metadata": {},
   "outputs": [],
   "source": [
    "fig = px.bar(df_europe, y='pop', x='country', text='pop', color='country')\n",
    "\n",
    "fig.update_traces(texttemplate='%{text:.2s}', textposition='outside')\n",
    "fig.update_layout(uniformtext_minsize=8)\n",
    "fig.update_layout(xaxis_tickangle=-45)\n",
    "\n",
    "fig"
   ]
  },
  {
   "cell_type": "markdown",
   "metadata": {},
   "source": [
    "### Scatter Plots"
   ]
  },
  {
   "cell_type": "code",
   "execution_count": null,
   "metadata": {},
   "outputs": [],
   "source": [
    "df_iris = px.data.iris()\n",
    "df_iris.head(10)"
   ]
  },
  {
   "cell_type": "code",
   "execution_count": null,
   "metadata": {},
   "outputs": [],
   "source": [
    "px.scatter(df_iris, x='sepal_width', y='sepal_length', color='species', size='petal_length',\n",
    "          hover_data=['petal_width'])"
   ]
  },
  {
   "cell_type": "code",
   "execution_count": null,
   "metadata": {},
   "outputs": [],
   "source": [
    "fig = go.Figure()\n",
    "fig.add_trace(go.Scatter(\n",
    "    x=df_iris.sepal_width, y=df_iris.sepal_length,\n",
    "    mode='markers',\n",
    "    marker_color=df_iris.sepal_width,\n",
    "    text=df_iris.species, marker=dict(showscale=True)\n",
    "))\n",
    "fig.update_traces(marker_line_width=2, marker_size=10)\n",
    "fig"
   ]
  },
  {
   "cell_type": "code",
   "execution_count": null,
   "metadata": {},
   "outputs": [],
   "source": [
    "fig = go.Figure(data=go.Scattergl(\n",
    "x = np.random.randn(100000),\n",
    "y = np.random.randn(100000),\n",
    "mode='markers',\n",
    "marker=dict(\n",
    "color=np.random.randn(100000),\n",
    "colorscale='Viridis',\n",
    "line_width=1)))\n",
    "fig"
   ]
  },
  {
   "cell_type": "markdown",
   "metadata": {},
   "source": [
    "### Pie Charts"
   ]
  },
  {
   "cell_type": "code",
   "execution_count": null,
   "metadata": {},
   "outputs": [],
   "source": [
    "df_asia = px.data.gapminder().query(\" year == 2007\").query(\"continent == 'Asia'\")\n",
    "df_asia.head(10)"
   ]
  },
  {
   "cell_type": "code",
   "execution_count": null,
   "metadata": {},
   "outputs": [],
   "source": [
    "px.pie(df_asia, values='pop', names='country',\n",
    "      title='Population of Asian Continent',\n",
    "      color_discrete_sequence=px.colors.sequential.RdBu)"
   ]
  },
  {
   "cell_type": "code",
   "execution_count": null,
   "metadata": {},
   "outputs": [],
   "source": [
    "colors = ['blue', 'green', 'black', 'purple', 'red', 'brown']\n",
    "fig = go.Figure(data=[go.Pie(labels=['Water', 'Grass', 'Normal',\n",
    "                                    'Psychic', 'FIre','Ground'],\n",
    "                            values=[110,90,80,80,70,60])])\n",
    "fig.update_traces(hoverinfo='label+percent', textfont_size=20,\n",
    "                 textinfo='label+percent', \n",
    "                  pull=[0.1, 0, 0.2, 0, 0, 0],\n",
    "                 marker=dict(colors=colors, line=dict(color='#FFFFFF',\n",
    "                                                    width=2)))\n",
    "fig"
   ]
  },
  {
   "cell_type": "markdown",
   "metadata": {},
   "source": [
    "### Histogram"
   ]
  },
  {
   "cell_type": "code",
   "execution_count": null,
   "metadata": {},
   "outputs": [],
   "source": [
    "dice_1 = np.random.randint(1,7,5000)\n",
    "dice_2 = np.random.randint(1,7,5000)\n",
    "dice_sum = dice_1 + dice_2\n",
    "fig = px.histogram(dice_sum, nbins=11, \n",
    "                   labels={'value':'Dice Roll'},\n",
    "                  title='5000 Dice Roll Histogram',\n",
    "                  marginal='violin', \n",
    "                  color_discrete_sequence=['green'])\n",
    "fig.update_layout(\n",
    "xaxis_title_text='Dice Roll',\n",
    "yaxis_title_text='Dice Sum',\n",
    "bargap=0.2, showlegend=False)\n",
    "\n",
    "fig"
   ]
  },
  {
   "cell_type": "code",
   "execution_count": null,
   "metadata": {},
   "outputs": [],
   "source": [
    "df_tips = px.data.tips()\n",
    "df_tips.head(5)"
   ]
  },
  {
   "cell_type": "code",
   "execution_count": null,
   "metadata": {},
   "outputs": [],
   "source": [
    "px.histogram(df_tips, x='total_bill', color='sex')"
   ]
  },
  {
   "cell_type": "markdown",
   "metadata": {},
   "source": [
    "### Box Plots"
   ]
  },
  {
   "cell_type": "code",
   "execution_count": null,
   "metadata": {},
   "outputs": [],
   "source": [
    "df_tips = px.data.tips()\n",
    "df_tips.head()"
   ]
  },
  {
   "cell_type": "code",
   "execution_count": null,
   "metadata": {},
   "outputs": [],
   "source": [
    "px.box(df_tips, x='sex', y='tip', points='all')"
   ]
  },
  {
   "cell_type": "code",
   "execution_count": null,
   "metadata": {},
   "outputs": [],
   "source": [
    "px.box(df_tips, x='day', y='tip', color='sex')"
   ]
  },
  {
   "cell_type": "code",
   "execution_count": null,
   "metadata": {},
   "outputs": [],
   "source": [
    "fig = go.Figure()\n",
    "fig.add_trace(go.Box(x=df_tips.sex,y=df_tips.tip, \n",
    "                     marker_color='blue', \n",
    "                    boxmean='sd'))"
   ]
  },
  {
   "cell_type": "code",
   "execution_count": null,
   "metadata": {},
   "outputs": [],
   "source": [
    "df_stocks = px.data.stocks()\n",
    "fig = go.Figure()\n",
    "fig.add_trace(go.Box(y=df_stocks.GOOG, boxpoints='all', \n",
    "                     fillcolor='blue', jitter=0.5, \n",
    "                     whiskerwidth=0.2))\n",
    "fig.add_trace(go.Box(y=df_stocks.AAPL, boxpoints='all', \n",
    "                     fillcolor='red', jitter=0.5, \n",
    "                     whiskerwidth=0.2))\n",
    "fig.update_layout(title='Google vs Apple',\n",
    "                 yaxis=dict(gridcolor='rgb(255, 255, 255)',\n",
    "                           gridwidth=3),\n",
    "                 paper_bgcolor='rgb(243, 243, 243)',\n",
    "                 plot_bgcolor='rgb(243, 243, 243)')"
   ]
  },
  {
   "cell_type": "markdown",
   "metadata": {},
   "source": [
    "### Violin PLots"
   ]
  },
  {
   "cell_type": "code",
   "execution_count": null,
   "metadata": {},
   "outputs": [],
   "source": [
    "df_tips = px.data.tips()\n",
    "df_tips.head(5)"
   ]
  },
  {
   "cell_type": "code",
   "execution_count": null,
   "metadata": {},
   "outputs": [],
   "source": [
    "px.violin(df_tips, y=\"total_bill\", box=True, points='all')"
   ]
  },
  {
   "cell_type": "code",
   "execution_count": null,
   "metadata": {},
   "outputs": [],
   "source": [
    "px.violin(df_tips, y=\"tip\", x=\"smoker\", color=\"sex\", box=True, \n",
    "         points=\"all\", hover_data=df_tips.columns)"
   ]
  },
  {
   "cell_type": "code",
   "execution_count": null,
   "metadata": {},
   "outputs": [],
   "source": [
    "fig = go.Figure()\n",
    "fig.add_trace(go.Violin(x=df_tips['day'][df_tips['smoker']=='Yes'],\n",
    "                       y=df_tips['total_bill'][df_tips['smoker']=='Yes'],\n",
    "                       legendgroup='Yes', scalegroup='Yes', name='Yes',\n",
    "                       side='negative', line_color='blue'))\n",
    "\n",
    "fig.add_trace(go.Violin(x=df_tips['day'][df_tips['smoker']=='No'],\n",
    "                       y=df_tips['total_bill'][df_tips['smoker']=='No'],\n",
    "                       legendgroup='Yes', scalegroup='Yes', name='No',\n",
    "                       side='positive', line_color='red'))"
   ]
  },
  {
   "cell_type": "markdown",
   "metadata": {},
   "source": [
    "### Density Heatmaps"
   ]
  },
  {
   "cell_type": "code",
   "execution_count": null,
   "metadata": {},
   "outputs": [],
   "source": [
    "flights = sns.load_dataset(\"flights\")\n",
    "flights"
   ]
  },
  {
   "cell_type": "code",
   "execution_count": null,
   "metadata": {},
   "outputs": [],
   "source": [
    "fig = px.density_heatmap(flights, x='year', y='month',\n",
    "                        z='passengers', \n",
    "                        color_continuous_scale='Viridis')\n",
    "\n",
    "fig"
   ]
  },
  {
   "cell_type": "markdown",
   "metadata": {},
   "source": [
    "### 3D Scatter Plots "
   ]
  },
  {
   "cell_type": "code",
   "execution_count": null,
   "metadata": {},
   "outputs": [],
   "source": [
    "fig = px.scatter_3d(flights, x='year', y='month', z='passengers',\n",
    "                   color='year', opacity=0.7)\n",
    "\n",
    "fig"
   ]
  },
  {
   "cell_type": "markdown",
   "metadata": {},
   "source": [
    "### 3D line Plots"
   ]
  },
  {
   "cell_type": "code",
   "execution_count": null,
   "metadata": {},
   "outputs": [],
   "source": [
    "fig = px.line_3d(flights, x='year', y='month', z='passengers',\n",
    "                   color='year')\n",
    "\n",
    "fig"
   ]
  },
  {
   "cell_type": "markdown",
   "metadata": {},
   "source": [
    "### Scatter Matrix "
   ]
  },
  {
   "cell_type": "code",
   "execution_count": null,
   "metadata": {},
   "outputs": [],
   "source": [
    "fig = px.scatter_matrix(flights, color='month')\n",
    "fig"
   ]
  },
  {
   "cell_type": "markdown",
   "metadata": {},
   "source": [
    "### Map Scatter Plots"
   ]
  },
  {
   "cell_type": "code",
   "execution_count": null,
   "metadata": {},
   "outputs": [],
   "source": [
    "df = px.data.gapminder().query(\"year == 2007\")\n",
    "df.head(5)"
   ]
  },
  {
   "cell_type": "code",
   "execution_count": null,
   "metadata": {},
   "outputs": [],
   "source": [
    "fig = px.scatter_geo(df, locations='iso_alpha',\n",
    "                    color='continent', \n",
    "                    hover_name='country',\n",
    "                    size='pop',\n",
    "                    projection='orthographic')\n",
    "\n",
    "fig"
   ]
  },
  {
   "cell_type": "markdown",
   "metadata": {},
   "source": [
    "### Choropleth Maps"
   ]
  },
  {
   "cell_type": "code",
   "execution_count": null,
   "metadata": {},
   "outputs": [],
   "source": [
    "from urllib.request import urlopen\n",
    "import json\n",
    "with urlopen('https://raw.githubusercontent.com/plotly/datasets/master/geojson-counties-fips.json') as response:\n",
    "    counties = json.load(response)\n",
    "    \n",
    "df = pd.read_csv(\"https://raw.githubusercontent.com/plotly/datasets/master/fips-unemp-16.csv\",\n",
    "                dtype={'fips': str})\n",
    "\n",
    "fig = px.choropleth(df, geojson=counties, locations='fips', color= 'unemp',\n",
    "                   color_continuous_scale='Viridis',\n",
    "                   range_color=(0,12),\n",
    "                   scope='usa',\n",
    "                   labels={'unemp': 'unemployment rate'}\n",
    "                   )\n",
    "\n",
    "fig"
   ]
  },
  {
   "cell_type": "markdown",
   "metadata": {},
   "source": [
    "### Polar Charts"
   ]
  },
  {
   "cell_type": "code",
   "execution_count": null,
   "metadata": {},
   "outputs": [],
   "source": [
    "df_wind = px.data.wind()\n",
    "df_wind.head()"
   ]
  },
  {
   "cell_type": "code",
   "execution_count": null,
   "metadata": {},
   "outputs": [],
   "source": [
    "px.scatter_polar(df_wind, r=\"frequency\", theta=\"direction\",\n",
    "                color=\"strength\", size=\"frequency\", symbol=\"strength\")"
   ]
  },
  {
   "cell_type": "code",
   "execution_count": null,
   "metadata": {},
   "outputs": [],
   "source": [
    "px.line_polar(df_wind, r=\"frequency\", theta=\"direction\",\n",
    "                color=\"strength\", line_close=True, \n",
    "              template=\"plotly_dark\")"
   ]
  },
  {
   "cell_type": "markdown",
   "metadata": {},
   "source": [
    "### Ternary Plots"
   ]
  },
  {
   "cell_type": "code",
   "execution_count": null,
   "metadata": {},
   "outputs": [],
   "source": [
    "df_exp = px.data.experiment()\n",
    "df_exp.head()"
   ]
  },
  {
   "cell_type": "code",
   "execution_count": null,
   "metadata": {},
   "outputs": [],
   "source": [
    "px.scatter_ternary(df_exp, a=\"experiment_1\",\n",
    "                  b=\"experiment_2\", c=\"experiment_3\",\n",
    "                  hover_name=\"group\", color=\"gender\")"
   ]
  },
  {
   "cell_type": "markdown",
   "metadata": {},
   "source": [
    "### Facet Plots"
   ]
  },
  {
   "cell_type": "code",
   "execution_count": null,
   "metadata": {},
   "outputs": [],
   "source": [
    "df_tips = px.data.tips()\n",
    "df_tips.head()"
   ]
  },
  {
   "cell_type": "code",
   "execution_count": null,
   "metadata": {},
   "outputs": [],
   "source": [
    "px.scatter(df_tips, x=\"total_bill\", y=\"tip\", color=\"smoker\",\n",
    "          facet_col=\"sex\")"
   ]
  },
  {
   "cell_type": "code",
   "execution_count": null,
   "metadata": {},
   "outputs": [],
   "source": [
    "px.histogram(df_tips, x=\"total_bill\", y=\"tip\", color=\"sex\",\n",
    "            facet_row=\"time\", facet_col=\"day\",\n",
    "            category_orders={\"day\": [\"Thur\", \"Fri\", \"Sat\", \"Sun\"],\n",
    "                            \"time\": [\"Launch\", \"Dinner\"]})"
   ]
  },
  {
   "cell_type": "code",
   "execution_count": null,
   "metadata": {},
   "outputs": [],
   "source": [
    "att_df = sns.load_dataset(\"attention\")\n",
    "fig = px.line(att_df, x='solutions', y='score', facet_col='subject',\n",
    "             facet_col_wrap=5, title='Score Based on Attention')\n",
    "fig"
   ]
  },
  {
   "cell_type": "markdown",
   "metadata": {},
   "source": [
    "### Animated Plots"
   ]
  },
  {
   "cell_type": "code",
   "execution_count": null,
   "metadata": {},
   "outputs": [],
   "source": [
    "df_cnt = px.data.gapminder()\n",
    "df_cnt.head()"
   ]
  },
  {
   "cell_type": "code",
   "execution_count": null,
   "metadata": {},
   "outputs": [],
   "source": [
    "px.scatter(df_cnt, x=\"gdpPercap\", y=\"lifeExp\",\n",
    "          animation_frame=\"year\",\n",
    "          animation_group=\"country\",\n",
    "          size=\"pop\", color='continent', hover_name='country',\n",
    "          log_x=True, size_max=55, range_x=[100, 100000], \n",
    "          range_y=[25, 90])"
   ]
  },
  {
   "cell_type": "code",
   "execution_count": null,
   "metadata": {},
   "outputs": [],
   "source": [
    "px.bar(df_cnt, x='continent', y='pop', color='continent',\n",
    "      animation_frame='year', animation_group='country',\n",
    "      range_y=[0, 4000000000])"
   ]
  },
  {
   "cell_type": "code",
   "execution_count": null,
   "metadata": {},
   "outputs": [],
   "source": []
  }
 ],
 "metadata": {
  "kernelspec": {
   "display_name": "Python 3",
   "language": "python",
   "name": "python3"
  },
  "language_info": {
   "codemirror_mode": {
    "name": "ipython",
    "version": 3
   },
   "file_extension": ".py",
   "mimetype": "text/x-python",
   "name": "python",
   "nbconvert_exporter": "python",
   "pygments_lexer": "ipython3",
   "version": "3.7.4"
  }
 },
 "nbformat": 4,
 "nbformat_minor": 2
}
